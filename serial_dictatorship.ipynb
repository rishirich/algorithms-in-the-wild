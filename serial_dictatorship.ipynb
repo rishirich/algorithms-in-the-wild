{
 "cells": [
  {
   "cell_type": "code",
   "execution_count": null,
   "id": "f94cba2f",
   "metadata": {},
   "outputs": [],
   "source": [
    "import urllib\n",
    "import yaml\n",
    "import pandas as pd\n",
    "import random\n",
    "import numpy as np\n",
    "from opcode import haslocal\n",
    "from pprint import pprint\n"
   ]
  },
  {
   "cell_type": "code",
   "execution_count": null,
   "id": "4852e1a7",
   "metadata": {},
   "outputs": [],
   "source": [
    "url = 'https://raw.githubusercontent.com/rishirich/algorithms-in-the-wild/main/datasets/final_student_merged_datasetA.csv'\n",
    "student_df = pd.read_csv(url, index_col= False)"
   ]
  },
  {
   "cell_type": "code",
   "execution_count": null,
   "id": "88c62263",
   "metadata": {},
   "outputs": [],
   "source": [
    "url = 'https://raw.githubusercontent.com/rishirich/algorithms-in-the-wild/main/datasets/final_data.csv'\n",
    "rooms_df = pd.read_csv(url, index_col= False)"
   ]
  },
  {
   "cell_type": "code",
   "execution_count": null,
   "id": "2a01d330",
   "metadata": {},
   "outputs": [],
   "source": [
    "student_df.set_index('RUID', inplace = True)"
   ]
  },
  {
   "cell_type": "code",
   "execution_count": null,
   "id": "5925a4c5",
   "metadata": {},
   "outputs": [],
   "source": [
    "allocating = dict()\n",
    "available_rooms = rooms_df['hall_id'].value_counts().to_dict()\n",
    "rooms_df.loc[0:5330,['is_available']] = [1]"
   ]
  },
  {
   "cell_type": "code",
   "execution_count": null,
   "id": "b62cd81e-67c2-41e6-badf-d518d1527163",
   "metadata": {},
   "outputs": [],
   "source": [
    "available_rooms"
   ]
  },
  {
   "cell_type": "code",
   "execution_count": null,
   "id": "19da3706-bb6a-46ba-94d4-6db5ccae6861",
   "metadata": {},
   "outputs": [],
   "source": [
    "preference_list = dict()\n",
    "for RUID, row in student_df.iterrows():\n",
    "    preference_list[RUID] = row['preferred_hall_ids'].replace(' ', \",\").replace('[','').replace(']','').replace('\\'','').split(',') #string split"
   ]
  },
  {
   "cell_type": "code",
   "execution_count": null,
   "id": "5b88bcac-aa9f-4a3c-876f-f871529f96c5",
   "metadata": {},
   "outputs": [],
   "source": [
    "result = dict()\n",
    "\n",
    "for ruid, preferences in preference_list.items():\n",
    "    is_pref_found = False\n",
    "    room_details = []\n",
    "    available_rooms_df = pd.DataFrame()\n",
    "\n",
    "    for pref in preferences:\n",
    "        available_rooms_df = rooms_df.loc[(rooms_df['hall_id'] == pref) & rooms_df['is_available'] == 1]\n",
    "        if not available_rooms_df.empty:\n",
    "            #try allocating first room in the df\n",
    "            is_pref_found = True\n",
    "            break\n",
    "    \n",
    "    if not is_pref_found:\n",
    "        #allocate random available room\n",
    "        available_rooms_df = rooms_df.loc[rooms_df['is_available'] == 1]\n",
    "    \n",
    "    if not available_rooms_df.empty:\n",
    "        #try allocating first room in the df\n",
    "        allocated_room = available_rooms_df.iloc[0]\n",
    "            \n",
    "        room_details.append(allocated_room['hall_id'])\n",
    "        room_details.append(allocated_room['building_id'])\n",
    "        room_details.append(allocated_room['room_id'])\n",
    "            \n",
    "        rooms_df.loc[allocated_room.name,'is_available'] = 0\n",
    "        result[ruid] = room_details"
   ]
  },
  {
   "cell_type": "code",
   "execution_count": null,
   "id": "6a42927b-0b85-4f1f-875e-669915288763",
   "metadata": {},
   "outputs": [],
   "source": [
    "pprint(result)"
   ]
  },
  {
   "cell_type": "code",
   "execution_count": 104,
   "id": "a2d30107",
   "metadata": {},
   "outputs": [],
   "source": [
    "df = pd.DataFrame(list(result.items()), columns=['RUID', 'Col'])\n",
    "df.to_csv('allocated.csv')"
   ]
  },
  {
   "cell_type": "code",
   "execution_count": 108,
   "id": "f5ef0428",
   "metadata": {},
   "outputs": [
    {
     "name": "stdout",
     "output_type": "stream",
     "text": [
      "already contains  RA_Apt 3843_104-A\n",
      "already contains  RA_Apt 3843_104-B\n",
      "already contains  RA_Apt 3843_104-C\n",
      "already contains  RA_Apt 3843_104-D\n",
      "already contains  RA_Apt 3838_141-A\n",
      "already contains  RA_Apt 3838_141-B\n",
      "already contains  RA_Apt 3838_141-C\n",
      "already contains  RA_Apt 3838_141-D\n",
      "already contains  NCA_Apt 3821_53-A\n",
      "already contains  NCA_Apt 3821_53-B\n",
      "already contains  NCA_Apt 3821_53-C\n",
      "already contains  NCA_Apt 3821_53-D\n",
      "already contains  NCA_Apt 3824_133-A\n",
      "already contains  NCA_Apt 3824_133-B\n",
      "already contains  NCA_Apt 3824_133-C\n",
      "already contains  NCA_Apt 3824_133-D\n",
      "already contains  NCA_Apt 3824_134-A\n",
      "already contains  NCA_Apt 3824_134-B\n",
      "already contains  NCA_Apt 3824_134-C\n",
      "already contains  NCA_Apt 3824_134-D\n",
      "5330\n",
      "5310\n"
     ]
    }
   ],
   "source": [
    "check_set = set()\n",
    "counter = 0\n",
    "for ruid, rooms in result.items():\n",
    "    _str = str(rooms[0]) + '_' + str(rooms[1]) + '_' + str(rooms[2])\n",
    "    if _str in check_set:\n",
    "        print(\"already contains \", _str)\n",
    "    check_set.add(_str)\n",
    "    counter += 1\n",
    "print(counter)\n",
    "\n",
    "print(len(check_set))"
   ]
  },
  {
   "cell_type": "code",
   "execution_count": null,
   "id": "500d1945",
   "metadata": {},
   "outputs": [],
   "source": [
    "rooms_df"
   ]
  },
  {
   "cell_type": "code",
   "execution_count": null,
   "id": "e655bc70",
   "metadata": {},
   "outputs": [],
   "source": [
    "student_df"
   ]
  },
  {
   "cell_type": "code",
   "execution_count": null,
   "id": "ef92c81b",
   "metadata": {},
   "outputs": [],
   "source": [
    "available_rooms"
   ]
  }
 ],
 "metadata": {
  "kernelspec": {
   "display_name": "Python 3 (ipykernel)",
   "language": "python",
   "name": "python3"
  },
  "language_info": {
   "codemirror_mode": {
    "name": "ipython",
    "version": 3
   },
   "file_extension": ".py",
   "mimetype": "text/x-python",
   "name": "python",
   "nbconvert_exporter": "python",
   "pygments_lexer": "ipython3",
   "version": "3.9.7"
  },
  "vscode": {
   "interpreter": {
    "hash": "b0fa6594d8f4cbf19f97940f81e996739fb7646882a419484c72d19e05852a7e"
   }
  }
 },
 "nbformat": 4,
 "nbformat_minor": 5
}
